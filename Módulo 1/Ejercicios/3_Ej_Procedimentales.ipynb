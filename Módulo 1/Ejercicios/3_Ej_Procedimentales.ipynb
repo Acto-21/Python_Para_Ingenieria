{
  "nbformat": 4,
  "nbformat_minor": 0,
  "metadata": {
    "colab": {
      "provenance": [],
      "authorship_tag": "ABX9TyPzJWE9XDYP3zRZdA9eb0Iz",
      "include_colab_link": true
    },
    "kernelspec": {
      "name": "python3",
      "display_name": "Python 3"
    },
    "language_info": {
      "name": "python"
    }
  },
  "cells": [
    {
      "cell_type": "markdown",
      "metadata": {
        "id": "view-in-github",
        "colab_type": "text"
      },
      "source": [
        "<a href=\"https://colab.research.google.com/github/Slrosales/Python_Para_Ingenieria/blob/main/M%C3%B3dulo%201/Ejercicios/3_Ej_Procedimentales.ipynb\" target=\"_parent\"><img src=\"https://colab.research.google.com/assets/colab-badge.svg\" alt=\"Open In Colab\"/></a>"
      ]
    },
    {
      "cell_type": "markdown",
      "source": [
        "# **1. Nombres de Bandas**"
      ],
      "metadata": {
        "id": "yceN48bXQyo5"
      }
    },
    {
      "cell_type": "markdown",
      "source": [
        "Cree al menos 3 nombres random de bandas a partir de sustantivos y adjetivos.\n",
        "\n",
        "Se recomienda el uso de listas para este ejercicio.\n",
        "\n",
        "**Plus:** el usuario puede personalizar que sustantivas y adjetivos usar."
      ],
      "metadata": {
        "id": "v2T4Ndc3Q12o"
      }
    },
    {
      "cell_type": "code",
      "execution_count": null,
      "metadata": {
        "id": "IV2dZDRhQmxQ"
      },
      "outputs": [],
      "source": []
    },
    {
      "cell_type": "markdown",
      "source": [
        "# **2. Corrimientos en un vector**"
      ],
      "metadata": {
        "id": "aXWeNERzQ5XJ"
      }
    },
    {
      "cell_type": "markdown",
      "source": [
        "Desarrollar un algoritmo que realice corrimientos hacia la derecha de un\n",
        "elemento en un vector A de n elementos."
      ],
      "metadata": {
        "id": "uH85YdNeQ-3g"
      }
    },
    {
      "cell_type": "code",
      "source": [],
      "metadata": {
        "id": "PX1sJdf0RDpJ"
      },
      "execution_count": null,
      "outputs": []
    },
    {
      "cell_type": "markdown",
      "source": [
        "# **3. Generar los n primeros números perfectos**"
      ],
      "metadata": {
        "id": "qMVcuIYmRD03"
      }
    },
    {
      "cell_type": "markdown",
      "source": [
        "Escribir un programa en Java que genere y muestre los primeros n números perfectos. Un número perfecto es un número entero positivo que es igual a la suma de sus divisores propios positivos, excluyendo el número mismo. Por ejemplo, 6 es un número perfecto porque 1 + 2 + 3 = 6."
      ],
      "metadata": {
        "id": "7P_3QpZ6RG3g"
      }
    },
    {
      "cell_type": "code",
      "source": [],
      "metadata": {
        "id": "NkO9K9rLRI7X"
      },
      "execution_count": null,
      "outputs": []
    },
    {
      "cell_type": "markdown",
      "source": [
        "# **4. Juego de Adivinar Números**"
      ],
      "metadata": {
        "id": "jxU-ZMSMRJQA"
      }
    },
    {
      "cell_type": "markdown",
      "source": [
        "Escribe un juego donde el usuario debe adivinar un número aleatorio generado por el programa.\n",
        "\n",
        "Usa funciones para cada parte del juego (generar número, pedir intento, verificar)."
      ],
      "metadata": {
        "id": "u6uIiamgRNNQ"
      }
    },
    {
      "cell_type": "code",
      "source": [],
      "metadata": {
        "id": "G6OiKlYJRO0n"
      },
      "execution_count": null,
      "outputs": []
    }
  ]
}