{
  "nbformat": 4,
  "nbformat_minor": 0,
  "metadata": {
    "colab": {
      "provenance": [],
      "collapsed_sections": [
        "FAmgblGFfTxX",
        "FyQItR1Le7Wx",
        "scrT7TQxizTJ",
        "I-3Qkm4mnLf5",
        "OvfK71U05YkB",
        "th-RzkZRheLs",
        "fhSPkkM8AMyC",
        "k4snHhTKh2rI",
        "B5LoDzhh7JGx",
        "nDrdfzdZ8wne",
        "EPo6kFU8z2Xo",
        "CbjKQhx8_rxi",
        "-HiYHBFOAI1B",
        "BAHsIj0MBvpg",
        "cpQpXJVDGa8q",
        "_y1-km7WAo03",
        "nhk4CM8KBLxC",
        "CEVGT6iklJ3W",
        "vqprqetAm4Qc",
        "MWtY1pg_q5Zx",
        "W68yBxpcthLF"
      ],
      "authorship_tag": "ABX9TyNDlYHFYsThFkQMLpBcIjQo",
      "include_colab_link": true
    },
    "kernelspec": {
      "name": "python3",
      "display_name": "Python 3"
    },
    "language_info": {
      "name": "python"
    }
  },
  "cells": [
    {
      "cell_type": "markdown",
      "metadata": {
        "id": "view-in-github",
        "colab_type": "text"
      },
      "source": [
        "<a href=\"https://colab.research.google.com/github/Slrosales/Python_Para_Ingenieria/blob/main/M%C3%B3dulo%201/1_1_Listas_y_sus_Funciones.ipynb\" target=\"_parent\"><img src=\"https://colab.research.google.com/assets/colab-badge.svg\" alt=\"Open In Colab\"/></a>"
      ]
    },
    {
      "cell_type": "markdown",
      "source": [
        "## Listas y sus funciones\n"
      ],
      "metadata": {
        "id": "cpQpXJVDGa8q"
      }
    },
    {
      "cell_type": "markdown",
      "source": [
        "Las listas son estructuras de datos muy versátiles y ampliamente utilizadas para almacenar y manipular datos en un programaUna, más especificamente es una colección ordenada de elementos que pueden ser de diferentes tipos (números, cadenas, otros objetos, etc.)."
      ],
      "metadata": {
        "id": "MamZYaXeGozS"
      }
    },
    {
      "cell_type": "code",
      "source": [
        "lista_numeros = [1, 2, 2, 3, 4, 5]\n",
        "lista_nombres = [\"Luna\", \"Giuseppe\", \"Laura\", \"Rubens\"]\n",
        "lista_multi = [1, \"hola\", 2.5]"
      ],
      "metadata": {
        "id": "UcUIgNa8HLaA"
      },
      "execution_count": 5,
      "outputs": []
    },
    {
      "cell_type": "markdown",
      "source": [
        "[pos 0, pos 1, pos 2, ... , pos n]"
      ],
      "metadata": {
        "id": "e3-QTjLyTPrg"
      }
    },
    {
      "cell_type": "code",
      "source": [
        "lista = [0, 8, 1, 2, 3, 3, 4]"
      ],
      "metadata": {
        "id": "KyOvJQ4vHfHI"
      },
      "execution_count": 6,
      "outputs": []
    },
    {
      "cell_type": "code",
      "source": [
        "# Imprime el valor en la posicón 1 de la lista\n",
        "# nombre_lista[indice]\n",
        "print(lista[1])"
      ],
      "metadata": {
        "colab": {
          "base_uri": "https://localhost:8080/"
        },
        "id": "neQpCCfQgZBT",
        "outputId": "eae2af94-2dbf-423d-e7d5-17083030ae0a"
      },
      "execution_count": 7,
      "outputs": [
        {
          "output_type": "stream",
          "name": "stdout",
          "text": [
            "8\n"
          ]
        }
      ]
    },
    {
      "cell_type": "code",
      "source": [
        "# Imprime el valor en la posicón -1 de la lista\n",
        "# (De derecha a izquierda)\n",
        "print(lista[-1])"
      ],
      "metadata": {
        "id": "xqEGPez-Tloi",
        "outputId": "dc0961a0-e01e-4f0c-e4ab-b8cdc2e4d5f1",
        "colab": {
          "base_uri": "https://localhost:8080/"
        }
      },
      "execution_count": 8,
      "outputs": [
        {
          "output_type": "stream",
          "name": "stdout",
          "text": [
            "4\n"
          ]
        }
      ]
    },
    {
      "cell_type": "code",
      "source": [
        "# Dame los primeros 3 valores\n",
        "# nombre_lista[pos inicial, pos final]\n",
        "print(lista[:3])"
      ],
      "metadata": {
        "id": "0QWXQfTgTqiQ",
        "outputId": "85e2a50f-7612-4e8c-e17f-e916c0cd2eca",
        "colab": {
          "base_uri": "https://localhost:8080/"
        }
      },
      "execution_count": 9,
      "outputs": [
        {
          "output_type": "stream",
          "name": "stdout",
          "text": [
            "[0, 8, 1]\n"
          ]
        }
      ]
    },
    {
      "cell_type": "code",
      "source": [
        "print(lista[2:5])"
      ],
      "metadata": {
        "id": "dh-CngStT36o",
        "outputId": "8a954e2b-794f-4174-9e55-f64fd36b562e",
        "colab": {
          "base_uri": "https://localhost:8080/"
        }
      },
      "execution_count": 10,
      "outputs": [
        {
          "output_type": "stream",
          "name": "stdout",
          "text": [
            "[1, 2, 3]\n"
          ]
        }
      ]
    },
    {
      "cell_type": "code",
      "source": [
        "# Invertir orden de la lista\n",
        "nueva_lista = lista[::-1]\n",
        "nueva_lista"
      ],
      "metadata": {
        "id": "tnLOgIZGUFcw",
        "outputId": "9444f765-84c4-4315-f4e5-e7c6e415c497",
        "colab": {
          "base_uri": "https://localhost:8080/"
        }
      },
      "execution_count": 11,
      "outputs": [
        {
          "output_type": "execute_result",
          "data": {
            "text/plain": [
              "[4, 3, 3, 2, 1, 8, 0]"
            ]
          },
          "metadata": {},
          "execution_count": 11
        }
      ]
    },
    {
      "cell_type": "code",
      "source": [
        "lista"
      ],
      "metadata": {
        "id": "CmEwgNzMUNc7",
        "outputId": "039b7ff3-0fa4-40af-c045-bae74bb4683c",
        "colab": {
          "base_uri": "https://localhost:8080/"
        }
      },
      "execution_count": 12,
      "outputs": [
        {
          "output_type": "execute_result",
          "data": {
            "text/plain": [
              "[0, 8, 1, 2, 3, 3, 4]"
            ]
          },
          "metadata": {},
          "execution_count": 12
        }
      ]
    },
    {
      "cell_type": "code",
      "source": [
        "nueva_lista"
      ],
      "metadata": {
        "id": "6FnIBKp7UXMn",
        "outputId": "dbedcaeb-0334-433a-bc77-edd34ee36725",
        "colab": {
          "base_uri": "https://localhost:8080/"
        }
      },
      "execution_count": 13,
      "outputs": [
        {
          "output_type": "execute_result",
          "data": {
            "text/plain": [
              "[4, 3, 3, 2, 1, 8, 0]"
            ]
          },
          "metadata": {},
          "execution_count": 13
        }
      ]
    },
    {
      "cell_type": "code",
      "source": [
        "print(lista)\n",
        "# len(lista): Retorna la longitud (número de elementos) de la lista\n",
        "print(f\"El tamaño de la lista es: {len(lista)}\\n\")\n",
        "\n",
        "# lista.append(elemento): Agrega un elemento al final de la lista.\n",
        "lista.append(5)\n",
        "print(\"Se agrega el número 5 a la lista\")\n",
        "print(lista, \"\\n\")\n",
        "\n",
        "# lista.insert(posicion, elemento): Inserta un elemento en una posición específica de la lista.\n",
        "print(\"Se inserta una 'x' en la posición 3\")\n",
        "lista.insert(3, \"x\")\n",
        "print(lista, \"\\n\")\n",
        "\n",
        "\n",
        "# lista.remove(elemento): Remueve la primera aparición del elemento de la lista.\n",
        "print(\"Se elimina la 'x' de la lista\")\n",
        "lista.remove(\"x\")\n",
        "print(lista, \"\\n\")\n",
        "\n",
        "#lista.pop(posicion): Remueve y retorna el elemento en la posición especificada.\n",
        "print(f\"Se obtine el número en la posición 6 ({lista.pop(6)}) y se elimina\")\n",
        "print(lista, \"\\n\")\n",
        "\n",
        "# elemento in lista: Verifica si un elemento está presente en la lista.\n",
        "print(f\"¿Está el 4 en la lista?\\nRespuesta: {4 in lista}\\n\")\n",
        "\n",
        "print(f\"¿Esta el 6 en la lista?\\nRespuesta: {6 in lista}\\n\")\n",
        "\n",
        "\n",
        "# lista.index(elemento): Retorna el índice de la primera aparición del elemento.\n",
        "print(f\"El número 0 esta el número: {lista.index(0)}\\n\")\n",
        "\n",
        "\n",
        "# lista.count(elemento): Cuenta cuántas veces aparece un elemento en la lista.\n",
        "print(f\"El número 3 esta {lista.count(3)} veces en la lista\\n\")\n",
        "\n",
        "# lista.sort(): Ordena los elementos de la lista en orden ascendente.\n",
        "lista.sort()\n",
        "print(f\"Lista ordenada: {lista}\\n\")\n",
        "\n",
        "# lista.reverse(): Invierte el orden de los elementos en la lista.\n",
        "lista.reverse()\n",
        "print(f\"Lista en orden inverso: {lista}\")"
      ],
      "metadata": {
        "colab": {
          "base_uri": "https://localhost:8080/"
        },
        "id": "BeGGCb8-HWXZ",
        "outputId": "bf34b427-7d33-4b6e-f5c4-447bd4794b02"
      },
      "execution_count": 14,
      "outputs": [
        {
          "output_type": "stream",
          "name": "stdout",
          "text": [
            "[0, 8, 1, 2, 3, 3, 4]\n",
            "El tamaño de la lista es: 7\n",
            "\n",
            "Se agrega el número 5 a la lista\n",
            "[0, 8, 1, 2, 3, 3, 4, 5] \n",
            "\n",
            "Se inserta una 'x' en la posición 3\n",
            "[0, 8, 1, 'x', 2, 3, 3, 4, 5] \n",
            "\n",
            "Se elimina la 'x' de la lista\n",
            "[0, 8, 1, 2, 3, 3, 4, 5] \n",
            "\n",
            "Se obtine el número en la posición 6 (4) y se elimina\n",
            "[0, 8, 1, 2, 3, 3, 5] \n",
            "\n",
            "¿Está el 4 en la lista?\n",
            "Respuesta: False\n",
            "\n",
            "¿Esta el 6 en la lista?\n",
            "Respuesta: False\n",
            "\n",
            "El número 0 esta el número: 0\n",
            "\n",
            "El número 3 esta 2 veces en la lista\n",
            "\n",
            "Lista ordenada: [0, 1, 2, 3, 3, 5, 8]\n",
            "\n",
            "Lista en orden inverso: [8, 5, 3, 3, 2, 1, 0]\n"
          ]
        }
      ]
    },
    {
      "cell_type": "markdown",
      "source": [
        "### Diferencia entre `.pop()` y `.remove()`"
      ],
      "metadata": {
        "id": "lKFCZ6EUn13b"
      }
    },
    {
      "cell_type": "code",
      "source": [
        "# Quito un valor de la lista\n",
        "x = lista.pop(1)\n",
        "x"
      ],
      "metadata": {
        "id": "pW2mbwPTVdVf",
        "outputId": "ccbed91f-bf9d-4ad2-ada1-d9240c348e7e",
        "colab": {
          "base_uri": "https://localhost:8080/"
        }
      },
      "execution_count": 15,
      "outputs": [
        {
          "output_type": "execute_result",
          "data": {
            "text/plain": [
              "5"
            ]
          },
          "metadata": {},
          "execution_count": 15
        }
      ]
    },
    {
      "cell_type": "code",
      "source": [
        "lista"
      ],
      "metadata": {
        "id": "D_Q9x5YYViSH",
        "outputId": "aa02b83d-7764-43ef-97b3-d5e966689a1c",
        "colab": {
          "base_uri": "https://localhost:8080/"
        }
      },
      "execution_count": 16,
      "outputs": [
        {
          "output_type": "execute_result",
          "data": {
            "text/plain": [
              "[8, 3, 3, 2, 1, 0]"
            ]
          },
          "metadata": {},
          "execution_count": 16
        }
      ]
    },
    {
      "cell_type": "code",
      "source": [
        "# Elimino un valor de la lista\n",
        "x = lista.remove(1)\n",
        "x"
      ],
      "metadata": {
        "id": "xw5FozccVkn-"
      },
      "execution_count": 17,
      "outputs": []
    },
    {
      "cell_type": "markdown",
      "source": [
        "No imprime nada porque `.remove()` no guarda ese valor de la lista como el `.pop()`, literalmente lo eliminó y renombró la lista como `x`"
      ],
      "metadata": {
        "id": "-wDrkru-oP5C"
      }
    },
    {
      "cell_type": "code",
      "source": [
        "lista"
      ],
      "metadata": {
        "id": "KuT9f7sAW87d",
        "outputId": "f5d1bcb7-8516-43f5-ab34-9e59b602a98f",
        "colab": {
          "base_uri": "https://localhost:8080/"
        }
      },
      "execution_count": 18,
      "outputs": [
        {
          "output_type": "execute_result",
          "data": {
            "text/plain": [
              "[8, 3, 3, 2, 0]"
            ]
          },
          "metadata": {},
          "execution_count": 18
        }
      ]
    },
    {
      "cell_type": "markdown",
      "source": [
        "### Ejemplos"
      ],
      "metadata": {
        "id": "f3Y1Y9y9nyM6"
      }
    },
    {
      "cell_type": "code",
      "source": [
        "# Nueva lista2 con los valores de lista + 1\n",
        "lista2 = []\n",
        "for elemento in lista:\n",
        "    lista2.append(elemento + 1)\n",
        "\n",
        "print(lista2)\n"
      ],
      "metadata": {
        "colab": {
          "base_uri": "https://localhost:8080/"
        },
        "id": "q_Un2795YzXM",
        "outputId": "15787405-f86e-4db3-f4b2-4817efc057b8"
      },
      "execution_count": 19,
      "outputs": [
        {
          "output_type": "stream",
          "name": "stdout",
          "text": [
            "[9, 4, 4, 3, 1]\n"
          ]
        }
      ]
    },
    {
      "cell_type": "code",
      "source": [
        "# La lista3 tiene en la posción i la suma de los valores de lista y lista2 en la posición i\n",
        "\n",
        "lista3 = []\n",
        "for i in range(len(lista)):\n",
        "    suma = lista[i] + lista2[i]\n",
        "    lista3.append(suma)\n",
        "\n",
        "print(lista3)\n"
      ],
      "metadata": {
        "colab": {
          "base_uri": "https://localhost:8080/"
        },
        "id": "8SbqENfvaVIZ",
        "outputId": "4001afb7-bd85-4da6-ceb1-8e34392e5a57"
      },
      "execution_count": 20,
      "outputs": [
        {
          "output_type": "stream",
          "name": "stdout",
          "text": [
            "[17, 7, 7, 5, 1]\n"
          ]
        }
      ]
    }
  ]
}