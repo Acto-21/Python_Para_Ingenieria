{
  "nbformat": 4,
  "nbformat_minor": 0,
  "metadata": {
    "colab": {
      "provenance": [],
      "collapsed_sections": [
        "FyQItR1Le7Wx",
        "scrT7TQxizTJ",
        "I-3Qkm4mnLf5",
        "OvfK71U05YkB",
        "th-RzkZRheLs",
        "fhSPkkM8AMyC",
        "k4snHhTKh2rI",
        "B5LoDzhh7JGx",
        "nDrdfzdZ8wne",
        "EPo6kFU8z2Xo",
        "CbjKQhx8_rxi",
        "-HiYHBFOAI1B",
        "BAHsIj0MBvpg",
        "cpQpXJVDGa8q",
        "KWICxCndXMdv",
        "VD83oxleKoCu",
        "Qdh8yH2NK6O9",
        "d9YNzKmsLqE6",
        "G9S1K_wj26Gs",
        "HphBKBaH47vw",
        "L9hUGZnA_yiS",
        "LwYOViTFryXb",
        "FaLe9ufMM27D",
        "qdMvpamXdBBs",
        "marowZRCfsAK",
        "fjTZXJdslRAM",
        "wI4bYzutnIFq",
        "FNyjir4aow5g",
        "wWvjvO1JqCVh",
        "5Q1nazsAd93r",
        "1gaJZqT0e17b",
        "mTlYMYrwQfoM",
        "jLpGNDPhu3G7"
      ],
      "authorship_tag": "ABX9TyMa9DVf3uMdEuOaf/VZRBh+",
      "include_colab_link": true
    },
    "kernelspec": {
      "name": "python3",
      "display_name": "Python 3"
    },
    "language_info": {
      "name": "python"
    }
  },
  "cells": [
    {
      "cell_type": "markdown",
      "metadata": {
        "id": "view-in-github",
        "colab_type": "text"
      },
      "source": [
        "<a href=\"https://colab.research.google.com/github/Slrosales/Python_Para_Ingenieria/blob/main/M%C3%B3dulo%201/1_1_Listas_y_sus_Funciones.ipynb\" target=\"_parent\"><img src=\"https://colab.research.google.com/assets/colab-badge.svg\" alt=\"Open In Colab\"/></a>"
      ]
    },
    {
      "cell_type": "markdown",
      "source": [
        "# Listas y sus funciones\n"
      ],
      "metadata": {
        "id": "cpQpXJVDGa8q"
      }
    },
    {
      "cell_type": "markdown",
      "source": [
        "Las listas son estructuras de datos muy versátiles y ampliamente utilizadas para almacenar y manipular datos en un programaUna, más especificamente es una colección ordenada de elementos que pueden ser de diferentes tipos (números, cadenas, otros objetos, etc.)."
      ],
      "metadata": {
        "id": "MamZYaXeGozS"
      }
    },
    {
      "cell_type": "code",
      "source": [
        "lista_numeros = [1, 2, 2, 3, 4, 5]\n",
        "lista_nombres = [\"Luna\", \"Giuseppe\", \"Laura\", \"Rubens\"]\n",
        "lista_multi = [1, \"hola\", 2.5]"
      ],
      "metadata": {
        "id": "UcUIgNa8HLaA"
      },
      "execution_count": null,
      "outputs": []
    },
    {
      "cell_type": "markdown",
      "source": [
        "[pos 0, pos 1, pos 2, ... , pos n]"
      ],
      "metadata": {
        "id": "ppAcD5uBWoeA"
      }
    },
    {
      "cell_type": "code",
      "source": [
        "lista = [0, 8, 1, 2, 3, 3, 4]"
      ],
      "metadata": {
        "id": "KyOvJQ4vHfHI"
      },
      "execution_count": null,
      "outputs": []
    },
    {
      "cell_type": "code",
      "source": [
        "\n",
        "# Imprime el valor en la posicón 1 de la lista\n",
        "# nombre_lista[indice]\n",
        "print(lista[1])"
      ],
      "metadata": {
        "colab": {
          "base_uri": "https://localhost:8080/"
        },
        "id": "neQpCCfQgZBT",
        "outputId": "f7332104-129a-42ee-f986-8a9388ff4554"
      },
      "execution_count": null,
      "outputs": [
        {
          "output_type": "stream",
          "name": "stdout",
          "text": [
            "8\n"
          ]
        }
      ]
    },
    {
      "cell_type": "code",
      "source": [
        "# Imprime el valor en la posicón -1 de la lista\n",
        "# (De derecha a izquierda)\n",
        "print(lista[-1])"
      ],
      "metadata": {
        "colab": {
          "base_uri": "https://localhost:8080/"
        },
        "id": "n1LlgoO2Wtkf",
        "outputId": "cd87ebf6-dcf8-430a-d1e3-ac5c33e8a3f3"
      },
      "execution_count": null,
      "outputs": [
        {
          "output_type": "stream",
          "name": "stdout",
          "text": [
            "4\n"
          ]
        }
      ]
    },
    {
      "cell_type": "code",
      "source": [
        "# Dame los primeros 3 valores\n",
        "# nombre_lista[pos inicial, pos final]\n",
        "print(lista[:3])\n"
      ],
      "metadata": {
        "colab": {
          "base_uri": "https://localhost:8080/"
        },
        "id": "KxeVnXMQWwrW",
        "outputId": "9e9b9d69-7f4a-4fe6-e090-847ac3bc7aad"
      },
      "execution_count": null,
      "outputs": [
        {
          "output_type": "stream",
          "name": "stdout",
          "text": [
            "[0, 8, 1]\n"
          ]
        }
      ]
    },
    {
      "cell_type": "code",
      "source": [
        "print(lista[2:5])"
      ],
      "metadata": {
        "colab": {
          "base_uri": "https://localhost:8080/"
        },
        "id": "OQd7DHS4W2D2",
        "outputId": "842852ed-58e0-49bd-b870-d3572e45efb0"
      },
      "execution_count": null,
      "outputs": [
        {
          "output_type": "stream",
          "name": "stdout",
          "text": [
            "[1, 2, 3]\n"
          ]
        }
      ]
    },
    {
      "cell_type": "code",
      "source": [
        "# Invertir orden de la lista\n",
        "nueva_lista = lista[::-1]\n",
        "nueva_lista"
      ],
      "metadata": {
        "colab": {
          "base_uri": "https://localhost:8080/"
        },
        "id": "WPwMrtAhW49O",
        "outputId": "d7375c28-757a-4621-9702-28fda0041195"
      },
      "execution_count": null,
      "outputs": [
        {
          "output_type": "execute_result",
          "data": {
            "text/plain": [
              "[4, 3, 3, 2, 1, 8, 0]"
            ]
          },
          "metadata": {},
          "execution_count": 41
        }
      ]
    },
    {
      "cell_type": "code",
      "source": [
        "print(lista)\n",
        "print(nueva_lista)"
      ],
      "metadata": {
        "colab": {
          "base_uri": "https://localhost:8080/"
        },
        "id": "uVfzqg8jW75O",
        "outputId": "de4429aa-bc29-4c99-d939-0247e1682f07"
      },
      "execution_count": null,
      "outputs": [
        {
          "output_type": "stream",
          "name": "stdout",
          "text": [
            "[0, 8, 1, 2, 3, 3, 4]\n",
            "[4, 3, 3, 2, 1, 8, 0]\n"
          ]
        }
      ]
    },
    {
      "cell_type": "markdown",
      "source": [
        "## Funciones"
      ],
      "metadata": {
        "id": "KWICxCndXMdv"
      }
    },
    {
      "cell_type": "code",
      "source": [
        "# len(lista): Retorna la longitud (número de elementos) de la lista\n",
        "print(f\"El tamaño de la lista es: {len(lista)}\\n\")\n",
        "\n",
        "# lista.append(elemento): Agrega un elemento al final de la lista.\n",
        "lista.append(5)\n",
        "print(\"Se agrega el número 5 a la lista\")\n",
        "print(lista, \"\\n\")\n",
        "\n",
        "# lista.insert(posicion, elemento): Inserta un elemento en una posición específica de la lista.\n",
        "print(\"Se inserta una 'x' en la posición 3\")\n",
        "lista.insert(3, \"x\")\n",
        "print(lista, \"\\n\")\n",
        "\n",
        "\n",
        "# lista.remove(elemento): Remueve la primera aparición del elemento de la lista.\n",
        "print(\"Se elimina la 'x' de la lista\")\n",
        "lista.remove(\"x\")\n",
        "print(lista, \"\\n\")\n",
        "\n",
        "#lista.pop(posicion): Remueve y retorna el elemento en la posición especificada.\n",
        "print(f\"Se obtine el número en la posición 6 ({lista.pop(6)}) y se elimina\")\n",
        "print(lista, \"\\n\")\n",
        "\n",
        "# elemento in lista: Verifica si un elemento está presente en la lista.\n",
        "print(f\"¿Está el 4 en la lista?\\nRespuesta: {4 in lista}\\n\")\n",
        "\n",
        "print(f\"¿Esta el 6 en la lista?\\nRespuesta: {6 in lista}\\n\")\n",
        "\n",
        "\n",
        "# lista.index(elemento): Retorna el índice de la primera aparición del elemento.\n",
        "print(f\"En la posición 0 esta el número: {lista.index(0)}\\n\")\n",
        "\n",
        "\n",
        "# lista.count(elemento): Cuenta cuántas veces aparece un elemento en la lista.\n",
        "print(f\"El número 3 esta {lista.count(3)} veces en la lista\\n\")\n",
        "\n",
        "# lista.sort(): Ordena los elementos de la lista en orden ascendente.\n",
        "lista.sort()\n",
        "print(f\"Lista ordenada: {lista}\\n\")\n",
        "\n",
        "# lista.reverse(): Invierte el orden de los elementos en la lista.\n",
        "lista.reverse()\n",
        "print(f\"Lista en orden inverso: {lista}\")"
      ],
      "metadata": {
        "colab": {
          "base_uri": "https://localhost:8080/"
        },
        "id": "BeGGCb8-HWXZ",
        "outputId": "4e8898ae-7280-4feb-b112-0efb1b224391"
      },
      "execution_count": null,
      "outputs": [
        {
          "output_type": "stream",
          "name": "stdout",
          "text": [
            "El tamaño de la lista es: 7\n",
            "\n",
            "Se agrega el número 5 a la lista\n",
            "[0, 8, 1, 2, 3, 3, 4, 5] \n",
            "\n",
            "Se inserta una 'x' en la posición 3\n",
            "[0, 8, 1, 'x', 2, 3, 3, 4, 5] \n",
            "\n",
            "Se elimina la 'x' de la lista\n",
            "[0, 8, 1, 2, 3, 3, 4, 5] \n",
            "\n",
            "Se obtine el número en la posición 6 (4) y se elimina\n",
            "[0, 8, 1, 2, 3, 3, 5] \n",
            "\n",
            "¿Está el 4 en la lista?\n",
            "Respuesta: False\n",
            "\n",
            "¿Esta el 6 en la lista?\n",
            "Respuesta: False\n",
            "\n",
            "En la posición 0 esta el número: 0\n",
            "\n",
            "El número 3 esta 2 veces en la lista\n",
            "\n",
            "Lista ordenada: [0, 1, 2, 3, 3, 5, 8]\n",
            "\n",
            "Lista en orden inverso: [8, 5, 3, 3, 2, 1, 0]\n"
          ]
        }
      ]
    },
    {
      "cell_type": "markdown",
      "source": [
        "## Diferencia entre `.pop()` y `.remove()`"
      ],
      "metadata": {
        "id": "VD83oxleKoCu"
      }
    },
    {
      "cell_type": "code",
      "source": [
        "# Quito un valor de la lista\n",
        "x = lista.pop(1)\n",
        "x"
      ],
      "metadata": {
        "id": "e4AwOyi4KuCO"
      },
      "execution_count": null,
      "outputs": []
    },
    {
      "cell_type": "code",
      "source": [
        "lista"
      ],
      "metadata": {
        "id": "PjU_IBH6KvqG"
      },
      "execution_count": null,
      "outputs": []
    },
    {
      "cell_type": "code",
      "source": [
        "# Elimino un valor de la lista\n",
        "x = lista.remove(1)\n",
        "x"
      ],
      "metadata": {
        "id": "ECMT0Vi1KxX3"
      },
      "execution_count": null,
      "outputs": []
    },
    {
      "cell_type": "markdown",
      "source": [
        "No imprime nada porque `.remove()` no guarda ese valor de la lista como el `.pop()`, literalmente lo eliminó y renombró la lista como x"
      ],
      "metadata": {
        "id": "oFHpshSyK1PO"
      }
    },
    {
      "cell_type": "code",
      "source": [
        "lista"
      ],
      "metadata": {
        "id": "o-UEGE2aK5C3"
      },
      "execution_count": null,
      "outputs": []
    },
    {
      "cell_type": "markdown",
      "source": [
        "## Ejemplos"
      ],
      "metadata": {
        "id": "Qdh8yH2NK6O9"
      }
    },
    {
      "cell_type": "code",
      "source": [
        "# Nueva lista2 con los valores de lista + 1\n",
        "lista2 = []\n",
        "for elemento in lista:\n",
        "    lista2.append(elemento + 1)\n",
        "\n",
        "print(lista2)\n"
      ],
      "metadata": {
        "colab": {
          "base_uri": "https://localhost:8080/"
        },
        "id": "q_Un2795YzXM",
        "outputId": "b319a946-041c-45c5-dee8-c01df0e3aa29"
      },
      "execution_count": null,
      "outputs": [
        {
          "output_type": "stream",
          "name": "stdout",
          "text": [
            "[9, 6, 4, 4, 3, 2, 1]\n"
          ]
        }
      ]
    },
    {
      "cell_type": "code",
      "source": [
        "# La lista3 tiene en la posción i la suma de los valores de lista y lista2 en la posición i\n",
        "\n",
        "lista3 = []\n",
        "for i in range(len(lista)):\n",
        "    suma = lista[i] + lista2[i]\n",
        "    lista3.append(suma)\n",
        "\n",
        "print(lista3)\n"
      ],
      "metadata": {
        "colab": {
          "base_uri": "https://localhost:8080/"
        },
        "id": "8SbqENfvaVIZ",
        "outputId": "e1d05439-381b-46ae-e149-29a69112c856"
      },
      "execution_count": null,
      "outputs": [
        {
          "output_type": "stream",
          "name": "stdout",
          "text": [
            "[17, 11, 7, 7, 5, 3, 1]\n"
          ]
        }
      ]
    }
  ]
}